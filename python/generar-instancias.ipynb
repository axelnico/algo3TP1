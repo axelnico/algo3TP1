{
 "cells": [
  {
   "cell_type": "markdown",
   "metadata": {},
   "source": [
    "# Generador de instancias\n",
    "En este notebook está el código para generar los sets de instancias que se usan para experimentar.\n",
    "- Estas instancias van a ser guardadas en la carpeta __instancias__.\n",
    "- Cada set estará en su propia carpeta y tendrá un archivo _indice.csv_ que contendrá información sobre las instancias."
   ]
  },
  {
   "cell_type": "code",
   "execution_count": 22,
   "metadata": {},
   "outputs": [],
   "source": [
    "import random, math\n",
    "import pandas as pd"
   ]
  },
  {
   "cell_type": "code",
   "execution_count": 23,
   "metadata": {},
   "outputs": [],
   "source": [
    "def save_instance(dataset, instance_name, n, R, P):\n",
    "    with open(F\"instancias/{dataset}/{instance_name}.txt\", \"w\") as f:\n",
    "        print(n, R, file=f)\n",
    "        for p in P: \n",
    "            print(p[0], file=f, end=\" \")\n",
    "            print(p[1], file=f, end=\"\\n\")\n",
    "        \n",
    "\n",
    "def save_index(dataset, instances):\n",
    "    with open(F\"instancias/{dataset}/instances.txt\", \"w\") as f:\n",
    "        for instance in instances: \n",
    "            print(instance, file=f)"
   ]
  },
  {
   "cell_type": "markdown",
   "metadata": {},
   "source": [
    "## Dataset 1\n",
    "Instancias en donde se pueden agregar todos los productos\n",
    "\n",
    "```\n",
    "n 1000\n",
    "1 1000\n",
    "...\n",
    "n 1000\n",
    "```"
   ]
  },
  {
   "cell_type": "code",
   "execution_count": 24,
   "metadata": {
    "tags": []
   },
   "outputs": [],
   "source": [
    "filas_indice = []\n",
    "for i in range(1, 31):\n",
    "    n = i\n",
    "    R = 1000\n",
    "    P = []\n",
    "    for j in range(1,i + 1):\n",
    "        P.append([j,1000])\n",
    "    save_instance(\"todos-los-productos-agregables\", F\"TP-{n}\", n, R, P)\n",
    "    #filas_indice.append([\"mejor-caso-bt\", F\"BT-MC-{n}\", n, W, F\"instancias/mejor-caso-bt/BT-MC-{n}.txt\"])\n",
    "pd.DataFrame(filas_indice, columns=[\"dataset\", \"instancia\", \"n\", \"R\", \"archivo\"]).to_csv(\"instancias/todos-los-productos-agregables/indice.csv\", index=False, header=True)"
   ]
  },
  {
   "cell_type": "markdown",
   "metadata": {},
   "source": [
    "## Dataset 2\n",
    "Instancias en donde no se puede agregar ningun producto\n",
    "```\n",
    "n 1000\n",
    "1001 1\n",
    "...\n",
    "1001 n\n",
    "```"
   ]
  },
  {
   "cell_type": "code",
   "execution_count": 27,
   "metadata": {},
   "outputs": [],
   "source": [
    "filas_indice = []\n",
    "for i in range(1, 31):\n",
    "    n = i\n",
    "    R = 1000\n",
    "    P = []\n",
    "    for j in range(1,i + 1):\n",
    "        P.append([1001,j])\n",
    "    save_instance(\"ningun-producto-agregable\", F\"NP-{n}\", n, R, P)\n",
    "    #filas_indice.append([\"mejor-caso-bt\", F\"BT-MC-{n}\", n, W, F\"instancias/mejor-caso-bt/BT-MC-{n}.txt\"])\n",
    "pd.DataFrame(filas_indice, columns=[\"dataset\", \"instancia\", \"n\", \"R\", \"archivo\"]).to_csv(\"instancias/ningun-producto-agregable/indice.csv\", index=False, header=True)"
   ]
  },
  {
   "cell_type": "markdown",
   "metadata": {},
   "source": [
    "## Dataset 3\n",
    "Instancias en donde el R es bastante mas grande que el n\n",
    "```\n",
    "n 400000000\n",
    "random[1-500] random[1-500]\n",
    "...\n",
    "random[1-500] random[1-500]\n",
    "```"
   ]
  },
  {
   "cell_type": "code",
   "execution_count": 29,
   "metadata": {},
   "outputs": [],
   "source": [
    "filas_indice = []\n",
    "for i in range(1, 31):\n",
    "    n = i\n",
    "    R = 400000000\n",
    "    P = []\n",
    "    for j in range(1,i + 1):\n",
    "        P.append([random.sample(range(1,500),1)[0],random.sample(range(1,500),1)[0]])\n",
    "    save_instance(\"R-grande\", F\"R-{n}\", n, R, P)\n",
    "    #filas_indice.append([\"mejor-caso-bt\", F\"BT-MC-{n}\", n, W, F\"instancias/mejor-caso-bt/BT-MC-{n}.txt\"])\n",
    "pd.DataFrame(filas_indice, columns=[\"dataset\", \"instancia\", \"n\", \"R\", \"archivo\"]).to_csv(\"instancias/R-grande/indice.csv\", index=False, header=True)"
   ]
  },
  {
   "cell_type": "markdown",
   "metadata": {},
   "source": [
    "## Dataset 4\n",
    "Instancias con R aleatorio y pesos y resistencias de productos aleatoria\n",
    "```\n",
    "n random[500-20000]\n",
    "random[1-500] random[1-500]\n",
    "...\n",
    "random[1-500] random[1-500]\n",
    "```"
   ]
  },
  {
   "cell_type": "code",
   "execution_count": 31,
   "metadata": {},
   "outputs": [],
   "source": [
    "filas_indice = []\n",
    "for i in range(1, 31):\n",
    "    n = i\n",
    "    R = random.sample(range(500,20000),1)[0]\n",
    "    P = []\n",
    "    for j in range(1,i + 1):\n",
    "        P.append([random.sample(range(1,500),1)[0],random.sample(range(1,500),1)[0]])\n",
    "    save_instance(\"random\", F\"Rand-{n}\", n, R, P)\n",
    "    #filas_indice.append([\"mejor-caso-bt\", F\"BT-MC-{n}\", n, W, F\"instancias/mejor-caso-bt/BT-MC-{n}.txt\"])\n",
    "pd.DataFrame(filas_indice, columns=[\"dataset\", \"instancia\", \"n\", \"R\", \"archivo\"]).to_csv(\"instancias/Random/indice.csv\", index=False, header=True)"
   ]
  }
 ],
 "metadata": {
  "kernelspec": {
   "display_name": "Python 3",
   "language": "python",
   "name": "python3"
  },
  "language_info": {
   "codemirror_mode": {
    "name": "ipython",
    "version": 3
   },
   "file_extension": ".py",
   "mimetype": "text/x-python",
   "name": "python",
   "nbconvert_exporter": "python",
   "pygments_lexer": "ipython3",
   "version": "3.9.0"
  }
 },
 "nbformat": 4,
 "nbformat_minor": 4
}
